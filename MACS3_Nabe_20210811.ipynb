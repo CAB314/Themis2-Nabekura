{
  "cells": [
    {
      "attachments": {},
      "cell_type": "markdown",
      "metadata": {
        "id": "DK2OQRHlbef_"
      },
      "source": [
        "# MACS3 に慣れます"
      ]
    },
    {
      "cell_type": "code",
      "execution_count": null,
      "metadata": {
        "colab": {
          "base_uri": "https://localhost:8080/"
        },
        "id": "8McIgTmiIUk5",
        "outputId": "692343cd-e8a8-4bdd-ddff-0780232fb29b"
      },
      "outputs": [],
      "source": [
        "pip install MACS3"
      ]
    },
    {
      "cell_type": "code",
      "execution_count": null,
      "metadata": {
        "colab": {
          "base_uri": "https://localhost:8080/"
        },
        "id": "jR2JM6OEJvG9",
        "outputId": "c3c3ad66-a191-4fcd-87c7-b953367e8467"
      },
      "outputs": [],
      "source": [
        "!pip show MACS3"
      ]
    },
    {
      "cell_type": "code",
      "execution_count": null,
      "metadata": {
        "colab": {
          "base_uri": "https://localhost:8080/"
        },
        "id": "ocP5KQIImnkU",
        "outputId": "5e54bb7c-6054-40b8-e8f7-28bd5f6b78f0"
      },
      "outputs": [],
      "source": [
        "!macs3 callpeak -t /content/drive/MyDrive/immune/chip-seq/Nabe/TIM_007_BAM_not_sorted/TIM_007_01.bam -c /content/drive/MyDrive/immune/chip-seq/Nabe/TIM_007_BAM_not_sorted/TIM_007_37.bam -f BAM --broad -g mm -n TIM_007_01peakcalled --broad-cutoff 0.1 --outdir /content/drive/MyDrive/immune/chip-seq/Nabe/Gori\n",
        "!macs3 callpeak -t /content/drive/MyDrive/immune/chip-seq/Nabe/TIM_007_BAM_not_sorted/TIM_007_02.bam -c /content/drive/MyDrive/immune/chip-seq/Nabe/TIM_007_BAM_not_sorted/TIM_007_37.bam -f BAM --broad -g mm -n TIM_007_02peakcalled --broad-cutoff 0.1 --outdir /content/drive/MyDrive/immune/chip-seq/Nabe/Gori\n",
        "!macs3 callpeak -t /content/drive/MyDrive/immune/chip-seq/Nabe/TIM_007_BAM_not_sorted/TIM_007_03.bam -c /content/drive/MyDrive/immune/chip-seq/Nabe/TIM_007_BAM_not_sorted/TIM_007_37.bam -f BAM --broad -g mm -n TIM_007_03peakcalled --broad-cutoff 0.1 --outdir /content/drive/MyDrive/immune/chip-seq/Nabe/Gori\n",
        "!macs3 callpeak -t /content/drive/MyDrive/immune/chip-seq/Nabe/TIM_007_BAM_not_sorted/TIM_007_04.bam -c /content/drive/MyDrive/immune/chip-seq/Nabe/TIM_007_BAM_not_sorted/TIM_007_38.bam -f BAM --broad -g mm -n TIM_007_04peakcalled --broad-cutoff 0.1 --outdir /content/drive/MyDrive/immune/chip-seq/Nabe/Gori\n",
        "!macs3 callpeak -t /content/drive/MyDrive/immune/chip-seq/Nabe/TIM_007_BAM_not_sorted/TIM_007_05.bam -c /content/drive/MyDrive/immune/chip-seq/Nabe/TIM_007_BAM_not_sorted/TIM_007_38.bam -f BAM --broad -g mm -n TIM_007_05peakcalled --broad-cutoff 0.1 --outdir /content/drive/MyDrive/immune/chip-seq/Nabe/Gori\n",
        "!macs3 callpeak -t /content/drive/MyDrive/immune/chip-seq/Nabe/TIM_007_BAM_not_sorted/TIM_007_06.bam -c /content/drive/MyDrive/immune/chip-seq/Nabe/TIM_007_BAM_not_sorted/TIM_007_38.bam -f BAM --broad -g mm -n TIM_007_06peakcalled --broad-cutoff 0.1 --outdir /content/drive/MyDrive/immune/chip-seq/Nabe/Gori\n",
        "!macs3 callpeak -t /content/drive/MyDrive/immune/chip-seq/Nabe/TIM_007_BAM_not_sorted/TIM_007_07.bam -c /content/drive/MyDrive/immune/chip-seq/Nabe/TIM_007_BAM_not_sorted/TIM_007_37.bam -f BAM --broad -g mm -n TIM_007_07peakcalled --broad-cutoff 0.1 --outdir /content/drive/MyDrive/immune/chip-seq/Nabe/Gori\n",
        "!macs3 callpeak -t /content/drive/MyDrive/immune/chip-seq/Nabe/TIM_007_BAM_not_sorted/TIM_007_08.bam -c /content/drive/MyDrive/immune/chip-seq/Nabe/TIM_007_BAM_not_sorted/TIM_007_37.bam -f BAM --broad -g mm -n TIM_007_08peakcalled --broad-cutoff 0.1 --outdir /content/drive/MyDrive/immune/chip-seq/Nabe/Gori\n",
        "!macs3 callpeak -t /content/drive/MyDrive/immune/chip-seq/Nabe/TIM_007_BAM_not_sorted/TIM_007_09.bam -c /content/drive/MyDrive/immune/chip-seq/Nabe/TIM_007_BAM_not_sorted/TIM_007_37.bam -f BAM --broad -g mm -n TIM_007_09peakcalled --broad-cutoff 0.1 --outdir /content/drive/MyDrive/immune/chip-seq/Nabe/Gori\n",
        "!macs3 callpeak -t /content/drive/MyDrive/immune/chip-seq/Nabe/TIM_007_BAM_not_sorted/TIM_007_10.bam -c /content/drive/MyDrive/immune/chip-seq/Nabe/TIM_007_BAM_not_sorted/TIM_007_38.bam -f BAM --broad -g mm -n TIM_007_10peakcalled --broad-cutoff 0.1 --outdir /content/drive/MyDrive/immune/chip-seq/Nabe/Gori\n",
        "!macs3 callpeak -t /content/drive/MyDrive/immune/chip-seq/Nabe/TIM_007_BAM_not_sorted/TIM_007_11.bam -c /content/drive/MyDrive/immune/chip-seq/Nabe/TIM_007_BAM_not_sorted/TIM_007_38.bam -f BAM --broad -g mm -n TIM_007_11peakcalled --broad-cutoff 0.1 --outdir /content/drive/MyDrive/immune/chip-seq/Nabe/Gori\n",
        "!macs3 callpeak -t /content/drive/MyDrive/immune/chip-seq/Nabe/TIM_007_BAM_not_sorted/TIM_007_12.bam -c /content/drive/MyDrive/immune/chip-seq/Nabe/TIM_007_BAM_not_sorted/TIM_007_38.bam -f BAM --broad -g mm -n TIM_007_12peakcalled --broad-cutoff 0.1 --outdir /content/drive/MyDrive/immune/chip-seq/Nabe/Gori\n",
        "!macs3 callpeak -t /content/drive/MyDrive/immune/chip-seq/Nabe/TIM_007_BAM_not_sorted/TIM_007_13.bam -c /content/drive/MyDrive/immune/chip-seq/Nabe/TIM_007_BAM_not_sorted/TIM_007_37.bam -f BAM --broad -g mm -n TIM_007_13peakcalled --broad-cutoff 0.1 --outdir /content/drive/MyDrive/immune/chip-seq/Nabe/Gori\n",
        "!macs3 callpeak -t /content/drive/MyDrive/immune/chip-seq/Nabe/TIM_007_BAM_not_sorted/TIM_007_14.bam -c /content/drive/MyDrive/immune/chip-seq/Nabe/TIM_007_BAM_not_sorted/TIM_007_37.bam -f BAM --broad -g mm -n TIM_007_14peakcalled --broad-cutoff 0.1 --outdir /content/drive/MyDrive/immune/chip-seq/Nabe/Gori\n",
        "!macs3 callpeak -t /content/drive/MyDrive/immune/chip-seq/Nabe/TIM_007_BAM_not_sorted/TIM_007_15.bam -c /content/drive/MyDrive/immune/chip-seq/Nabe/TIM_007_BAM_not_sorted/TIM_007_37.bam -f BAM --broad -g mm -n TIM_007_15peakcalled --broad-cutoff 0.1 --outdir /content/drive/MyDrive/immune/chip-seq/Nabe/Gori\n",
        "!macs3 callpeak -t /content/drive/MyDrive/immune/chip-seq/Nabe/TIM_007_BAM_not_sorted/TIM_007_16.bam -c /content/drive/MyDrive/immune/chip-seq/Nabe/TIM_007_BAM_not_sorted/TIM_007_38.bam -f BAM --broad -g mm -n TIM_007_16peakcalled --broad-cutoff 0.1 --outdir /content/drive/MyDrive/immune/chip-seq/Nabe/Gori\n",
        "!macs3 callpeak -t /content/drive/MyDrive/immune/chip-seq/Nabe/TIM_007_BAM_not_sorted/TIM_007_17.bam -c /content/drive/MyDrive/immune/chip-seq/Nabe/TIM_007_BAM_not_sorted/TIM_007_38.bam -f BAM --broad -g mm -n TIM_007_17peakcalled --broad-cutoff 0.1 --outdir /content/drive/MyDrive/immune/chip-seq/Nabe/Gori\n",
        "!macs3 callpeak -t /content/drive/MyDrive/immune/chip-seq/Nabe/TIM_007_BAM_not_sorted/TIM_007_18.bam -c /content/drive/MyDrive/immune/chip-seq/Nabe/TIM_007_BAM_not_sorted/TIM_007_38.bam -f BAM --broad -g mm -n TIM_007_18peakcalled --broad-cutoff 0.1 --outdir /content/drive/MyDrive/immune/chip-seq/Nabe/Gori\n",
        "!macs3 callpeak -t /content/drive/MyDrive/immune/chip-seq/Nabe/TIM_007_BAM_not_sorted/TIM_007_19.bam -c /content/drive/MyDrive/immune/chip-seq/Nabe/TIM_007_BAM_not_sorted/TIM_007_37.bam -f BAM --broad -g mm -n TIM_007_19peakcalled --broad-cutoff 0.1 --outdir /content/drive/MyDrive/immune/chip-seq/Nabe/Gori\n",
        "!macs3 callpeak -t /content/drive/MyDrive/immune/chip-seq/Nabe/TIM_007_BAM_not_sorted/TIM_007_20.bam -c /content/drive/MyDrive/immune/chip-seq/Nabe/TIM_007_BAM_not_sorted/TIM_007_37.bam -f BAM --broad -g mm -n TIM_007_20peakcalled --broad-cutoff 0.1 --outdir /content/drive/MyDrive/immune/chip-seq/Nabe/Gori\n",
        "!macs3 callpeak -t /content/drive/MyDrive/immune/chip-seq/Nabe/TIM_007_BAM_not_sorted/TIM_007_21.bam -c /content/drive/MyDrive/immune/chip-seq/Nabe/TIM_007_BAM_not_sorted/TIM_007_37.bam -f BAM --broad -g mm -n TIM_007_21peakcalled --broad-cutoff 0.1 --outdir /content/drive/MyDrive/immune/chip-seq/Nabe/Gori\n",
        "!macs3 callpeak -t /content/drive/MyDrive/immune/chip-seq/Nabe/TIM_007_BAM_not_sorted/TIM_007_22.bam -c /content/drive/MyDrive/immune/chip-seq/Nabe/TIM_007_BAM_not_sorted/TIM_007_38.bam -f BAM --broad -g mm -n TIM_007_22peakcalled --broad-cutoff 0.1 --outdir /content/drive/MyDrive/immune/chip-seq/Nabe/Gori\n",
        "!macs3 callpeak -t /content/drive/MyDrive/immune/chip-seq/Nabe/TIM_007_BAM_not_sorted/TIM_007_23.bam -c /content/drive/MyDrive/immune/chip-seq/Nabe/TIM_007_BAM_not_sorted/TIM_007_38.bam -f BAM --broad -g mm -n TIM_007_23peakcalled --broad-cutoff 0.1 --outdir /content/drive/MyDrive/immune/chip-seq/Nabe/Gori\n",
        "!macs3 callpeak -t /content/drive/MyDrive/immune/chip-seq/Nabe/TIM_007_BAM_not_sorted/TIM_007_24.bam -c /content/drive/MyDrive/immune/chip-seq/Nabe/TIM_007_BAM_not_sorted/TIM_007_38.bam -f BAM --broad -g mm -n TIM_007_24peakcalled --broad-cutoff 0.1 --outdir /content/drive/MyDrive/immune/chip-seq/Nabe/Gori\n",
        "!macs3 callpeak -t /content/drive/MyDrive/immune/chip-seq/Nabe/TIM_007_BAM_not_sorted/TIM_007_25.bam -c /content/drive/MyDrive/immune/chip-seq/Nabe/TIM_007_BAM_not_sorted/TIM_007_37.bam -f BAM --broad -g mm -n TIM_007_25peakcalled --broad-cutoff 0.1 --outdir /content/drive/MyDrive/immune/chip-seq/Nabe/Gori\n",
        "!macs3 callpeak -t /content/drive/MyDrive/immune/chip-seq/Nabe/TIM_007_BAM_not_sorted/TIM_007_26.bam -c /content/drive/MyDrive/immune/chip-seq/Nabe/TIM_007_BAM_not_sorted/TIM_007_37.bam -f BAM --broad -g mm -n TIM_007_26peakcalled --broad-cutoff 0.1 --outdir /content/drive/MyDrive/immune/chip-seq/Nabe/Gori\n",
        "!macs3 callpeak -t /content/drive/MyDrive/immune/chip-seq/Nabe/TIM_007_BAM_not_sorted/TIM_007_27.bam -c /content/drive/MyDrive/immune/chip-seq/Nabe/TIM_007_BAM_not_sorted/TIM_007_37.bam -f BAM --broad -g mm -n TIM_007_27peakcalled --broad-cutoff 0.1 --outdir /content/drive/MyDrive/immune/chip-seq/Nabe/Gori\n",
        "!macs3 callpeak -t /content/drive/MyDrive/immune/chip-seq/Nabe/TIM_007_BAM_not_sorted/TIM_007_28.bam -c /content/drive/MyDrive/immune/chip-seq/Nabe/TIM_007_BAM_not_sorted/TIM_007_38.bam -f BAM --broad -g mm -n TIM_007_28peakcalled --broad-cutoff 0.1 --outdir /content/drive/MyDrive/immune/chip-seq/Nabe/Gori\n",
        "!macs3 callpeak -t /content/drive/MyDrive/immune/chip-seq/Nabe/TIM_007_BAM_not_sorted/TIM_007_29.bam -c /content/drive/MyDrive/immune/chip-seq/Nabe/TIM_007_BAM_not_sorted/TIM_007_38.bam -f BAM --broad -g mm -n TIM_007_29peakcalled --broad-cutoff 0.1 --outdir /content/drive/MyDrive/immune/chip-seq/Nabe/Gori\n",
        "!macs3 callpeak -t /content/drive/MyDrive/immune/chip-seq/Nabe/TIM_007_BAM_not_sorted/TIM_007_30.bam -c /content/drive/MyDrive/immune/chip-seq/Nabe/TIM_007_BAM_not_sorted/TIM_007_38.bam -f BAM --broad -g mm -n TIM_007_30peakcalled --broad-cutoff 0.1 --outdir /content/drive/MyDrive/immune/chip-seq/Nabe/Gori\n",
        "!macs3 callpeak -t /content/drive/MyDrive/immune/chip-seq/Nabe/TIM_007_BAM_not_sorted/TIM_007_31.bam -c /content/drive/MyDrive/immune/chip-seq/Nabe/TIM_007_BAM_not_sorted/TIM_007_37.bam -f BAM --broad -g mm -n TIM_007_31peakcalled --broad-cutoff 0.1 --outdir /content/drive/MyDrive/immune/chip-seq/Nabe/Gori\n",
        "!macs3 callpeak -t /content/drive/MyDrive/immune/chip-seq/Nabe/TIM_007_BAM_not_sorted/TIM_007_32.bam -c /content/drive/MyDrive/immune/chip-seq/Nabe/TIM_007_BAM_not_sorted/TIM_007_37.bam -f BAM --broad -g mm -n TIM_007_32peakcalled --broad-cutoff 0.1 --outdir /content/drive/MyDrive/immune/chip-seq/Nabe/Gori\n",
        "!macs3 callpeak -t /content/drive/MyDrive/immune/chip-seq/Nabe/TIM_007_BAM_not_sorted/TIM_007_33.bam -c /content/drive/MyDrive/immune/chip-seq/Nabe/TIM_007_BAM_not_sorted/TIM_007_37.bam -f BAM --broad -g mm -n TIM_007_33peakcalled --broad-cutoff 0.1 --outdir /content/drive/MyDrive/immune/chip-seq/Nabe/Gori\n",
        "!macs3 callpeak -t /content/drive/MyDrive/immune/chip-seq/Nabe/TIM_007_BAM_not_sorted/TIM_007_34.bam -c /content/drive/MyDrive/immune/chip-seq/Nabe/TIM_007_BAM_not_sorted/TIM_007_38.bam -f BAM --broad -g mm -n TIM_007_34peakcalled --broad-cutoff 0.1 --outdir /content/drive/MyDrive/immune/chip-seq/Nabe/Gori\n",
        "!macs3 callpeak -t /content/drive/MyDrive/immune/chip-seq/Nabe/TIM_007_BAM_not_sorted/TIM_007_35.bam -c /content/drive/MyDrive/immune/chip-seq/Nabe/TIM_007_BAM_not_sorted/TIM_007_38.bam -f BAM --broad -g mm -n TIM_007_35peakcalled --broad-cutoff 0.1 --outdir /content/drive/MyDrive/immune/chip-seq/Nabe/Gori\n",
        "!macs3 callpeak -t /content/drive/MyDrive/immune/chip-seq/Nabe/TIM_007_BAM_not_sorted/TIM_007_36.bam -c /content/drive/MyDrive/immune/chip-seq/Nabe/TIM_007_BAM_not_sorted/TIM_007_38.bam -f BAM --broad -g mm -n TIM_007_36peakcalled --broad-cutoff 0.1 --outdir /content/drive/MyDrive/immune/chip-seq/Nabe/Gori"
      ]
    }
  ],
  "metadata": {
    "colab": {
      "provenance": []
    },
    "kernelspec": {
      "display_name": "Python 3",
      "name": "python3"
    },
    "language_info": {
      "name": "python"
    }
  },
  "nbformat": 4,
  "nbformat_minor": 0
}
