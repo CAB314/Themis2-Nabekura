{
  "cells": [
    {
<<<<<<< HEAD
=======
      "attachments": {},
      "cell_type": "markdown",
      "metadata": {
        "id": "DK2OQRHlbef_"
      },
      "source": [
        #a
      ]
    },
    {
>>>>>>> 8c0e3edad60790727d8bc5f5a80a02244ccc27e0
      "cell_type": "code",
      "execution_count": null,
      "metadata": {
        "colab": {
          "base_uri": "https://localhost:8080/"
        },
        "id": "8McIgTmiIUk5",
        "outputId": "692343cd-e8a8-4bdd-ddff-0780232fb29b"
      },
      "outputs": [],
      "source": [
        "pip install MACS3==3.0.0a6"
      ]
    },
    {
      "cell_type": "code",
      "execution_count": null,
      "metadata": {
        "colab": {
          "base_uri": "https://localhost:8080/"
        },
        "id": "ocP5KQIImnkU",
        "outputId": "5e54bb7c-6054-40b8-e8f7-28bd5f6b78f0"
      },
      "outputs": [],
      "source": [
        "!macs3 callpeak -t sample_t.bam -c sample_c.bam -f BAM --broad -g mm -n sample_t_peakcalled --broad-cutoff 0.1 --outdir Demooutput"
      ]
    }
  ],
  "metadata": {
    "colab": {
      "provenance": []
    },
    "kernelspec": {
      "display_name": "Python 3",
      "name": "python3"
    },
    "language_info": {
      "codemirror_mode": {
        "name": "ipython",
        "version": 3
      },
      "file_extension": ".py",
      "mimetype": "text/x-python",
      "name": "python",
      "nbconvert_exporter": "python",
      "pygments_lexer": "ipython3",
      "version": "3.8.10"
    }
  },
  "nbformat": 4,
  "nbformat_minor": 0
}
