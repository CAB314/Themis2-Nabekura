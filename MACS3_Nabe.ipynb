{
  "cells": [
    {
      "attachments": {},
      "cell_type": "markdown",
      "metadata": {
        "id": "DK2OQRHlbef_"
      },
      "source": [
      ]
    },
    {
      "cell_type": "code",
      "execution_count": 1,
      "metadata": {
        "colab": {
          "base_uri": "https://localhost:8080/"
        },
        "id": "8McIgTmiIUk5",
        "outputId": "692343cd-e8a8-4bdd-ddff-0780232fb29b"
      },
      "outputs": [
        {
          "name": "stdout",
          "output_type": "stream",
          "text": [
            "Collecting MACS3==3.0.0a6\n",
            "  Using cached MACS3-3.0.0a6.tar.gz (606 kB)\n",
            "  Installing build dependencies ... \u001b[?25ldone\n",
            "\u001b[?25h  Getting requirements to build wheel ... \u001b[?25ldone\n",
            "\u001b[?25h  Preparing metadata (pyproject.toml) ... \u001b[?25ldone\n",
            "\u001b[?25hCollecting numpy>=1.17 (from MACS3==3.0.0a6)\n",
            "  Using cached numpy-1.24.3-cp38-cp38-macosx_11_0_arm64.whl (13.8 MB)\n",
            "Collecting cykhash>=1.0.2 (from MACS3==3.0.0a6)\n",
            "  Using cached cykhash-2.0.1-cp38-cp38-macosx_11_0_universal2.whl\n",
            "Collecting Cython>=0.29 (from MACS3==3.0.0a6)\n",
            "  Using cached Cython-0.29.34-py2.py3-none-any.whl (988 kB)\n",
            "Building wheels for collected packages: MACS3\n",
            "  Building wheel for MACS3 (pyproject.toml) ... \u001b[?25ldone\n",
            "\u001b[?25h  Created wheel for MACS3: filename=MACS3-3.0.0a6-cp38-cp38-macosx_11_0_universal2.whl size=3499681 sha256=5952fcc221e207e7b3ac0542c3a4c13c7e422542bd06c7082c42832c02c50fb9\n",
            "  Stored in directory: /Users/yuyaarai/Library/Caches/pip/wheels/95/4f/28/2ee87a153a82277a0adb1a1ab81ea9c97161e1f4eb1d9a0059\n",
            "Successfully built MACS3\n",
            "Installing collected packages: cykhash, numpy, Cython, MACS3\n",
            "Successfully installed Cython-0.29.34 MACS3-3.0.0a6 cykhash-2.0.1 numpy-1.24.3\n",
            "Note: you may need to restart the kernel to use updated packages.\n"
          ]
        }
      ],
      "source": [
        "pip install MACS3==3.0.0a6"
      ]
    },
    {
      "cell_type": "code",
      "execution_count": 6,
      "metadata": {
        "colab": {
          "base_uri": "https://localhost:8080/"
        },
        "id": "ocP5KQIImnkU",
        "outputId": "5e54bb7c-6054-40b8-e8f7-28bd5f6b78f0"
      },
      "outputs": [
        {
          "name": "stdout",
          "output_type": "stream",
          "text": [
            "INFO  @ Sat, 13 May 2023 13:34:00: \n",
            "# Command line: callpeak -t sample_t.bam -c sample_c.bam -f BAM --broad -g mm -n sample_t_peakcalled --broad-cutoff 0.1 --outdir Demooutput\n",
            "# ARGUMENTS LIST:\n",
            "# name = sample_t_peakcalled\n",
            "# format = BAM\n",
            "# ChIP-seq file = ['sample_t.bam']\n",
            "# control file = ['sample_c.bam']\n",
            "# effective genome size = 1.87e+09\n",
            "# band width = 300\n",
            "# model fold = [5, 50]\n",
            "# qvalue cutoff for narrow/strong regions = 5.00e-02\n",
            "# qvalue cutoff for broad/weak regions = 1.00e-01\n",
            "# The maximum gap between significant sites is assigned as the read length/tag size.\n",
            "# The minimum length of peaks is assigned as the predicted fragment length \"d\".\n",
            "# Larger dataset will be scaled towards smaller dataset.\n",
            "# Range for calculating regional lambda is: 1000 bps and 10000 bps\n",
            "# Broad region calling is on\n",
            "# Paired-End mode is off\n",
            " \n",
            "INFO  @ Sat, 13 May 2023 13:34:00: #1 read tag files... \n",
            "INFO  @ Sat, 13 May 2023 13:34:00: #1 read treatment tags... \n",
            "INFO  @ Sat, 13 May 2023 13:34:01:  1000000 reads parsed \n",
            "INFO  @ Sat, 13 May 2023 13:34:02:  2000000 reads parsed \n",
            "INFO  @ Sat, 13 May 2023 13:34:03:  3000000 reads parsed \n",
            "INFO  @ Sat, 13 May 2023 13:34:04:  4000000 reads parsed \n",
            "INFO  @ Sat, 13 May 2023 13:34:05:  5000000 reads parsed \n",
            "INFO  @ Sat, 13 May 2023 13:34:06:  6000000 reads parsed \n",
            "INFO  @ Sat, 13 May 2023 13:34:08:  7000000 reads parsed \n",
            "INFO  @ Sat, 13 May 2023 13:34:09:  8000000 reads parsed \n",
            "INFO  @ Sat, 13 May 2023 13:34:10:  9000000 reads parsed \n",
            "INFO  @ Sat, 13 May 2023 13:34:11:  10000000 reads parsed \n",
            "INFO  @ Sat, 13 May 2023 13:34:12:  11000000 reads parsed \n",
            "INFO  @ Sat, 13 May 2023 13:34:13:  12000000 reads parsed \n",
            "INFO  @ Sat, 13 May 2023 13:34:15:  13000000 reads parsed \n",
            "INFO  @ Sat, 13 May 2023 13:34:16:  14000000 reads parsed \n",
            "INFO  @ Sat, 13 May 2023 13:34:17:  15000000 reads parsed \n",
            "INFO  @ Sat, 13 May 2023 13:34:18:  16000000 reads parsed \n",
            "INFO  @ Sat, 13 May 2023 13:34:19:  17000000 reads parsed \n",
            "INFO  @ Sat, 13 May 2023 13:34:20:  18000000 reads parsed \n",
            "INFO  @ Sat, 13 May 2023 13:34:21:  19000000 reads parsed \n",
            "INFO  @ Sat, 13 May 2023 13:34:23:  20000000 reads parsed \n",
            "INFO  @ Sat, 13 May 2023 13:34:24:  21000000 reads parsed \n",
            "INFO  @ Sat, 13 May 2023 13:34:25:  22000000 reads parsed \n",
            "INFO  @ Sat, 13 May 2023 13:34:26:  23000000 reads parsed \n",
            "INFO  @ Sat, 13 May 2023 13:34:27:  24000000 reads parsed \n",
            "INFO  @ Sat, 13 May 2023 13:34:28:  25000000 reads parsed \n",
            "INFO  @ Sat, 13 May 2023 13:34:30:  26000000 reads parsed \n",
            "INFO  @ Sat, 13 May 2023 13:34:30: 26644742 reads have been read. \n",
            "INFO  @ Sat, 13 May 2023 13:34:31: #1.2 read input tags... \n",
            "INFO  @ Sat, 13 May 2023 13:34:32:  1000000 reads parsed \n",
            "INFO  @ Sat, 13 May 2023 13:34:33:  2000000 reads parsed \n",
            "INFO  @ Sat, 13 May 2023 13:34:34:  3000000 reads parsed \n",
            "INFO  @ Sat, 13 May 2023 13:34:35:  4000000 reads parsed \n",
            "INFO  @ Sat, 13 May 2023 13:34:36:  5000000 reads parsed \n",
            "INFO  @ Sat, 13 May 2023 13:34:38:  6000000 reads parsed \n",
            "INFO  @ Sat, 13 May 2023 13:34:39:  7000000 reads parsed \n",
            "INFO  @ Sat, 13 May 2023 13:34:40:  8000000 reads parsed \n",
            "INFO  @ Sat, 13 May 2023 13:34:41:  9000000 reads parsed \n",
            "INFO  @ Sat, 13 May 2023 13:34:42:  10000000 reads parsed \n",
            "INFO  @ Sat, 13 May 2023 13:34:44:  11000000 reads parsed \n",
            "INFO  @ Sat, 13 May 2023 13:34:45:  12000000 reads parsed \n",
            "INFO  @ Sat, 13 May 2023 13:34:46:  13000000 reads parsed \n",
            "INFO  @ Sat, 13 May 2023 13:34:47:  14000000 reads parsed \n",
            "INFO  @ Sat, 13 May 2023 13:34:48:  15000000 reads parsed \n",
            "INFO  @ Sat, 13 May 2023 13:34:49:  16000000 reads parsed \n",
            "INFO  @ Sat, 13 May 2023 13:34:51:  17000000 reads parsed \n",
            "INFO  @ Sat, 13 May 2023 13:34:52:  18000000 reads parsed \n",
            "INFO  @ Sat, 13 May 2023 13:34:53:  19000000 reads parsed \n",
            "INFO  @ Sat, 13 May 2023 13:34:54:  20000000 reads parsed \n",
            "INFO  @ Sat, 13 May 2023 13:34:55:  21000000 reads parsed \n",
            "INFO  @ Sat, 13 May 2023 13:34:56:  22000000 reads parsed \n",
            "INFO  @ Sat, 13 May 2023 13:34:58:  23000000 reads parsed \n",
            "INFO  @ Sat, 13 May 2023 13:34:59:  24000000 reads parsed \n",
            "INFO  @ Sat, 13 May 2023 13:35:00:  25000000 reads parsed \n",
            "INFO  @ Sat, 13 May 2023 13:35:01:  26000000 reads parsed \n",
            "INFO  @ Sat, 13 May 2023 13:35:03:  27000000 reads parsed \n",
            "INFO  @ Sat, 13 May 2023 13:35:04:  28000000 reads parsed \n",
            "INFO  @ Sat, 13 May 2023 13:35:04: 28072133 reads have been read. \n",
            "INFO  @ Sat, 13 May 2023 13:35:04: #1 tag size is determined as 36 bps \n",
            "INFO  @ Sat, 13 May 2023 13:35:04: #1 tag size = 36.0 \n",
            "INFO  @ Sat, 13 May 2023 13:35:04: #1  total tags in treatment: 26644742 \n",
            "INFO  @ Sat, 13 May 2023 13:35:04: #1 user defined the maximum tags... \n",
            "INFO  @ Sat, 13 May 2023 13:35:04: #1 filter out redundant tags at the same location and the same strand by allowing at most 1 tag(s) \n",
            "INFO  @ Sat, 13 May 2023 13:35:04: #1  tags after filtering in treatment: 15109694 \n",
            "INFO  @ Sat, 13 May 2023 13:35:04: #1  Redundant rate of treatment: 0.43 \n",
            "INFO  @ Sat, 13 May 2023 13:35:04: #1  total tags in control: 28072133 \n",
            "INFO  @ Sat, 13 May 2023 13:35:04: #1 user defined the maximum tags... \n",
            "INFO  @ Sat, 13 May 2023 13:35:04: #1 filter out redundant tags at the same location and the same strand by allowing at most 1 tag(s) \n",
            "INFO  @ Sat, 13 May 2023 13:35:04: #1  tags after filtering in control: 20324741 \n",
            "INFO  @ Sat, 13 May 2023 13:35:04: #1  Redundant rate of control: 0.28 \n",
            "INFO  @ Sat, 13 May 2023 13:35:04: #1 finished! \n",
            "INFO  @ Sat, 13 May 2023 13:35:04: #2 Build Peak Model... \n",
            "INFO  @ Sat, 13 May 2023 13:35:04: #2 looking for paired plus/minus strand peaks... \n",
            "INFO  @ Sat, 13 May 2023 13:35:07: #2 Total number of paired peaks: 375 \n",
            "INFO  @ Sat, 13 May 2023 13:35:07: #2 Model building with cross-correlation: Done \n",
            "INFO  @ Sat, 13 May 2023 13:35:07: #2 finished! \n",
            "INFO  @ Sat, 13 May 2023 13:35:07: #2 predicted fragment length is 75 bps \n",
            "INFO  @ Sat, 13 May 2023 13:35:07: #2 alternative fragment length(s) may be 39,75 bps \n",
            "INFO  @ Sat, 13 May 2023 13:35:07: #2.2 Generate R script for model : Demooutput/sample_t_peakcalled_model.r \n",
            "INFO  @ Sat, 13 May 2023 13:35:07: #3 Call peaks... \n",
            "INFO  @ Sat, 13 May 2023 13:35:07: #3 Call broad peaks with given level1 -log10qvalue cutoff and level2: 1.301030, 1.000000... \n",
            "INFO  @ Sat, 13 May 2023 13:35:07: #3 Pre-compute pvalue-qvalue table... \n",
            "INFO  @ Sat, 13 May 2023 13:36:07: #3 Call peaks for each chromosome... \n",
            "INFO  @ Sat, 13 May 2023 13:36:26: #4 Write output xls file... Demooutput/sample_t_peakcalled_peaks.xls \n",
            "INFO  @ Sat, 13 May 2023 13:36:26: #4 Write broad peak in broadPeak format file... Demooutput/sample_t_peakcalled_peaks.broadPeak \n",
            "INFO  @ Sat, 13 May 2023 13:36:26: #4 Write broad peak in bed12/gappedPeak format file... Demooutput/sample_t_peakcalled_peaks.gappedPeak \n",
            "INFO  @ Sat, 13 May 2023 13:36:26: Done! \n"
          ]
        }
      ],
      "source": [
        "!macs3 callpeak -t sample_t.bam -c sample_c.bam -f BAM --broad -g mm -n sample_t_peakcalled --broad-cutoff 0.1 --outdir Demooutput"
      ]
    },
    {
      "cell_type": "code",
      "execution_count": 5,
      "metadata": {},
      "outputs": [
        {
          "name": "stdout",
          "output_type": "stream",
          "text": [
            "Package            Version\n",
            "------------------ -------\n",
            "appnope            0.1.3\n",
            "asttokens          2.2.1\n",
            "backcall           0.2.0\n",
            "comm               0.1.3\n",
            "cykhash            2.0.1\n",
            "Cython             0.29.34\n",
            "debugpy            1.6.7\n",
            "decorator          5.1.1\n",
            "executing          1.2.0\n",
            "importlib-metadata 6.6.0\n",
            "ipykernel          6.23.0\n",
            "ipython            8.12.2\n",
            "jedi               0.18.2\n",
            "jupyter_client     8.2.0\n",
            "jupyter_core       5.3.0\n",
            "MACS3              3.0.0a6\n",
            "matplotlib-inline  0.1.6\n",
            "nest-asyncio       1.5.6\n",
            "numpy              1.24.3\n",
            "packaging          23.1\n",
            "parso              0.8.3\n",
            "pexpect            4.8.0\n",
            "pickleshare        0.7.5\n",
            "pip                23.1.2\n",
            "platformdirs       3.5.1\n",
            "prompt-toolkit     3.0.38\n",
            "psutil             5.9.5\n",
            "ptyprocess         0.7.0\n",
            "pure-eval          0.2.2\n",
            "Pygments           2.15.1\n",
            "python-dateutil    2.8.2\n",
            "pyzmq              25.0.2\n",
            "setuptools         56.0.0\n",
            "six                1.16.0\n",
            "stack-data         0.6.2\n",
            "tornado            6.3.1\n",
            "traitlets          5.9.0\n",
            "typing_extensions  4.5.0\n",
            "wcwidth            0.2.6\n",
            "zipp               3.15.0\n",
            "Note: you may need to restart the kernel to use updated packages.\n"
          ]
        }
      ],
      "source": [
        "pip list"
      ]
    },
    {
      "cell_type": "code",
      "execution_count": 4,
      "metadata": {},
      "outputs": [
        {
          "name": "stdout",
          "output_type": "stream",
          "text": [
            "Note: you may need to restart the kernel to use updated packages.\n"
          ]
        }
      ],
      "source": [
        "pip freeze > requirements.txt"
      ]
    },
    {
      "cell_type": "code",
      "execution_count": 9,
      "metadata": {},
      "outputs": [
        {
          "data": {
            "text/plain": [
              "'macOS-12.1-arm64-arm-64bit'"
            ]
          },
          "execution_count": 9,
          "metadata": {},
          "output_type": "execute_result"
        }
      ],
      "source": [
        "import platform\n",
        "\n",
        "\n",
        "platform.platform()"
      ]
    },
    {
      "cell_type": "code",
      "execution_count": null,
      "metadata": {},
      "outputs": [],
      "source": []
    }
  ],
  "metadata": {
    "colab": {
      "provenance": []
    },
    "kernelspec": {
      "display_name": "Python 3",
      "name": "python3"
    },
    "language_info": {
      "codemirror_mode": {
        "name": "ipython",
        "version": 3
      },
      "file_extension": ".py",
      "mimetype": "text/x-python",
      "name": "python",
      "nbconvert_exporter": "python",
      "pygments_lexer": "ipython3",
      "version": "3.8.10"
    }
  },
  "nbformat": 4,
  "nbformat_minor": 0
}
